{
 "cells": [
  {
   "cell_type": "markdown",
   "id": "5ac8088c",
   "metadata": {},
   "source": [
    "Pico EMP"
   ]
  },
  {
   "cell_type": "code",
   "execution_count": 1,
   "id": "f3ebabb2",
   "metadata": {},
   "outputs": [],
   "source": [
    "import sys\n",
    "import time\n",
    "import os\n",
    "import numpy as np\n",
    "import chipwhisperer as cw\n",
    "from tqdm.notebook import tqdm\n",
    "import serial\n",
    "\n",
    "\n",
    "ser = 0"
   ]
  },
  {
   "cell_type": "markdown",
   "id": "50049b6e",
   "metadata": {},
   "source": [
    "This is a basic class to control PicoEMP"
   ]
  },
  {
   "cell_type": "code",
   "execution_count": 6,
   "id": "44cbb6c0",
   "metadata": {},
   "outputs": [],
   "source": [
    "import platform\n",
    "class ChipShouterPicoEMP:\n",
    "    def __init__(self, port=None):\n",
    "        if port is None:\n",
    "            if platform.system() == 'Windows':\n",
    "                port = 'COM13'  # Puerto predeterminado de Windows\n",
    "            else:\n",
    "                port = '/dev/ttyACM1'  # Puerto predeterminado de Linux / macOS\n",
    "        self.pico = serial.Serial(port, 921600)\n",
    "        \n",
    "        self.pico.write(b'\\r\\n')\n",
    "        time.sleep(0.1)\n",
    "        ret = self.pico.read(self.pico.in_waiting)\n",
    "        \n",
    "        if b'PicoEMP Commands' in ret:\n",
    "            print('Connected to ChipSHOUTER PicoEMP!')\n",
    "        else:\n",
    "            raise OSError('Could not connect to ChipShouter PicoEMP :(')\n",
    "        \n",
    "\n",
    "    def disable_timeout(self):\n",
    "        self.pico.write(b'disable_timeout\\r\\n')\n",
    "        time.sleep(1)\n",
    "        assert b'Timeout disabled!' in self.pico.read(self.pico.in_waiting)\n",
    "\n",
    "        \n",
    "    def arm(self):\n",
    "        self.pico.write(b'arm\\r\\n')\n",
    "        time.sleep(1)\n",
    "        assert b'Device armed!' in self.pico.read(self.pico.in_waiting)\n",
    "\n",
    "        \n",
    "    def disarm(self):\n",
    "        self.pico.write(b'disarm\\r\\n')\n",
    "        time.sleep(1)\n",
    "        assert b'Device disarmed!' in self.pico.read(self.pico.in_waiting)\n",
    "\n",
    "    def pulse(self):\n",
    "        self.pico.write(b'pulse\\r\\n')\n",
    "        time.sleep(1)\n",
    "        assert b'Pulsed!' in self.pico.read(self.pico.in_waiting)\n",
    "        \n",
    "    def external_hvp(self):\n",
    "        self.pico.write(b'external_hvp\\r\\n')\n",
    "        time.sleep(1)\n",
    "        assert b'External HVP mode active!' in self.pico.read(self.pico.in_waiting)\n",
    "\n",
    "        \n",
    "    def print_status(self):\n",
    "        self.pico.write(b'status\\r\\n')\n",
    "        time.sleep(1)\n",
    "        print(self.pico.read(self.pico.in_waiting).decode('utf-8'))\n",
    "        \n",
    "    \n",
    "    def setup_external_control(self):\n",
    "        self.disable_timeout()\n",
    "        self.external_hvp()\n",
    "        self.print_status()"
   ]
  },
  {
   "cell_type": "code",
   "execution_count": 136,
   "id": "cce00f93",
   "metadata": {},
   "outputs": [
    {
     "name": "stdout",
     "output_type": "stream",
     "text": [
      "Connected to ChipSHOUTER PicoEMP!\n"
     ]
    }
   ],
   "source": [
    "pico = ChipShouterPicoEMP()"
   ]
  },
  {
   "cell_type": "code",
   "execution_count": 137,
   "id": "a6a40bf6",
   "metadata": {},
   "outputs": [],
   "source": [
    "pico.arm()"
   ]
  },
  {
   "cell_type": "code",
   "execution_count": 138,
   "id": "745a8e07",
   "metadata": {},
   "outputs": [
    {
     "name": "stdout",
     "output_type": "stream",
     "text": [
      "status\r\n",
      "Status:\r\n",
      "- Armed\r\n",
      "- Charged\r\n",
      "- Timeout active\r\n",
      "- HVP internal\r\n",
      "\r\n",
      "[status] > \r\n",
      "\n"
     ]
    }
   ],
   "source": [
    "pico.print_status()\n"
   ]
  },
  {
   "cell_type": "code",
   "execution_count": 139,
   "id": "6e7bbf36",
   "metadata": {},
   "outputs": [
    {
     "name": "stdout",
     "output_type": "stream",
     "text": [
      "status\r\n",
      "Status:\r\n",
      "- Armed\r\n",
      "- Charged\r\n",
      "- Timeout active\r\n",
      "- HVP internal\r\n",
      "\r\n",
      "[status] > \r\n",
      "\n"
     ]
    }
   ],
   "source": [
    "pico.pulse()\n",
    "pico.print_status()"
   ]
  },
  {
   "cell_type": "code",
   "execution_count": 140,
   "id": "4577c98e",
   "metadata": {},
   "outputs": [],
   "source": [
    "pico.disarm()"
   ]
  },
  {
   "cell_type": "code",
   "execution_count": null,
   "id": "3893adc3",
   "metadata": {},
   "outputs": [],
   "source": []
  }
 ],
 "metadata": {
  "kernelspec": {
   "display_name": "Python 3 (ipykernel)",
   "language": "python",
   "name": "python3"
  },
  "language_info": {
   "codemirror_mode": {
    "name": "ipython",
    "version": 3
   },
   "file_extension": ".py",
   "mimetype": "text/x-python",
   "name": "python",
   "nbconvert_exporter": "python",
   "pygments_lexer": "ipython3",
   "version": "3.10.8"
  }
 },
 "nbformat": 4,
 "nbformat_minor": 5
}
